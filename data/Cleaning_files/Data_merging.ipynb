{
 "cells": [
  {
   "cell_type": "markdown",
   "metadata": {},
   "source": [
    "# Data Merging\n",
    "\n",
    "This notebook is used to merge the data from the different years."
   ]
  },
  {
   "cell_type": "code",
   "execution_count": 13,
   "metadata": {},
   "outputs": [],
   "source": [
    "import pandas as pd\n",
    "import numpy as np"
   ]
  },
  {
   "cell_type": "code",
   "execution_count": 14,
   "metadata": {},
   "outputs": [],
   "source": [
    "df1 = pd.read_csv('../raw/text_2022.csv')\n",
    "df2 = pd.read_csv('../raw/text_2024.csv')"
   ]
  },
  {
   "cell_type": "code",
   "execution_count": 15,
   "metadata": {},
   "outputs": [
    {
     "data": {
      "text/html": [
       "<div>\n",
       "<style scoped>\n",
       "    .dataframe tbody tr th:only-of-type {\n",
       "        vertical-align: middle;\n",
       "    }\n",
       "\n",
       "    .dataframe tbody tr th {\n",
       "        vertical-align: top;\n",
       "    }\n",
       "\n",
       "    .dataframe thead th {\n",
       "        text-align: right;\n",
       "    }\n",
       "</style>\n",
       "<table border=\"1\" class=\"dataframe\">\n",
       "  <thead>\n",
       "    <tr style=\"text-align: right;\">\n",
       "      <th></th>\n",
       "      <th>PostId</th>\n",
       "      <th>post_body_text</th>\n",
       "      <th>GoogleAudioText</th>\n",
       "      <th>EmbeddedContentText</th>\n",
       "      <th>Platform</th>\n",
       "      <th>ChannelID</th>\n",
       "      <th>CombinedText</th>\n",
       "    </tr>\n",
       "  </thead>\n",
       "  <tbody>\n",
       "    <tr>\n",
       "      <th>0</th>\n",
       "      <td>80074859</td>\n",
       "      <td>While in Camden today I had the privilege to v...</td>\n",
       "      <td>NaN</td>\n",
       "      <td>NaN</td>\n",
       "      <td>Instagram</td>\n",
       "      <td>9955344</td>\n",
       "      <td>While in Camden today I had the privilege to v...</td>\n",
       "    </tr>\n",
       "    <tr>\n",
       "      <th>1</th>\n",
       "      <td>80069324</td>\n",
       "      <td>I had a great visit this afternoon with the Wi...</td>\n",
       "      <td>NaN</td>\n",
       "      <td>NaN</td>\n",
       "      <td>Instagram</td>\n",
       "      <td>9955344</td>\n",
       "      <td>I had a great visit this afternoon with the Wi...</td>\n",
       "    </tr>\n",
       "  </tbody>\n",
       "</table>\n",
       "</div>"
      ],
      "text/plain": [
       "     PostId                                     post_body_text  \\\n",
       "0  80074859  While in Camden today I had the privilege to v...   \n",
       "1  80069324  I had a great visit this afternoon with the Wi...   \n",
       "\n",
       "  GoogleAudioText EmbeddedContentText   Platform  ChannelID  \\\n",
       "0             NaN                 NaN  Instagram    9955344   \n",
       "1             NaN                 NaN  Instagram    9955344   \n",
       "\n",
       "                                        CombinedText  \n",
       "0  While in Camden today I had the privilege to v...  \n",
       "1  I had a great visit this afternoon with the Wi...  "
      ]
     },
     "execution_count": 15,
     "metadata": {},
     "output_type": "execute_result"
    }
   ],
   "source": [
    "df1.head(2)"
   ]
  },
  {
   "cell_type": "code",
   "execution_count": 16,
   "metadata": {},
   "outputs": [
    {
     "data": {
      "text/plain": [
       "859"
      ]
     },
     "execution_count": 16,
     "metadata": {},
     "output_type": "execute_result"
    }
   ],
   "source": [
    "# NaN values in the 'post_body_text' column\n",
    "df1['post_body_text'].isna().sum()"
   ]
  },
  {
   "cell_type": "code",
   "execution_count": 17,
   "metadata": {},
   "outputs": [
    {
     "data": {
      "text/html": [
       "<div>\n",
       "<style scoped>\n",
       "    .dataframe tbody tr th:only-of-type {\n",
       "        vertical-align: middle;\n",
       "    }\n",
       "\n",
       "    .dataframe tbody tr th {\n",
       "        vertical-align: top;\n",
       "    }\n",
       "\n",
       "    .dataframe thead th {\n",
       "        text-align: right;\n",
       "    }\n",
       "</style>\n",
       "<table border=\"1\" class=\"dataframe\">\n",
       "  <thead>\n",
       "    <tr style=\"text-align: right;\">\n",
       "      <th></th>\n",
       "      <th>PostId</th>\n",
       "      <th>post_body_text</th>\n",
       "      <th>GoogleAudioText</th>\n",
       "      <th>EmbeddedContentText</th>\n",
       "      <th>Platform</th>\n",
       "      <th>ChannelID</th>\n",
       "      <th>CombinedText</th>\n",
       "    </tr>\n",
       "  </thead>\n",
       "  <tbody>\n",
       "    <tr>\n",
       "      <th>0</th>\n",
       "      <td>392353290</td>\n",
       "      <td>Happy Birthday to the @USNationalGuard @Nation...</td>\n",
       "      <td>NaN</td>\n",
       "      <td>NaN</td>\n",
       "      <td>Twitter</td>\n",
       "      <td>8403193</td>\n",
       "      <td>Happy Birthday to the @USNationalGuard @Nation...</td>\n",
       "    </tr>\n",
       "    <tr>\n",
       "      <th>1</th>\n",
       "      <td>392438642</td>\n",
       "      <td>Happy Birthday to the National Guard! Today, w...</td>\n",
       "      <td>NaN</td>\n",
       "      <td>NaN</td>\n",
       "      <td>Facebook</td>\n",
       "      <td>8402424</td>\n",
       "      <td>Happy Birthday to the National Guard! Today, w...</td>\n",
       "    </tr>\n",
       "  </tbody>\n",
       "</table>\n",
       "</div>"
      ],
      "text/plain": [
       "      PostId                                     post_body_text  \\\n",
       "0  392353290  Happy Birthday to the @USNationalGuard @Nation...   \n",
       "1  392438642  Happy Birthday to the National Guard! Today, w...   \n",
       "\n",
       "  GoogleAudioText EmbeddedContentText  Platform  ChannelID  \\\n",
       "0             NaN                 NaN   Twitter    8403193   \n",
       "1             NaN                 NaN  Facebook    8402424   \n",
       "\n",
       "                                        CombinedText  \n",
       "0  Happy Birthday to the @USNationalGuard @Nation...  \n",
       "1  Happy Birthday to the National Guard! Today, w...  "
      ]
     },
     "execution_count": 17,
     "metadata": {},
     "output_type": "execute_result"
    }
   ],
   "source": [
    "df2.head(2)"
   ]
  },
  {
   "cell_type": "code",
   "execution_count": 18,
   "metadata": {},
   "outputs": [
    {
     "data": {
      "text/plain": [
       "236"
      ]
     },
     "execution_count": 18,
     "metadata": {},
     "output_type": "execute_result"
    }
   ],
   "source": [
    "# NaN values in the 'post_body_text' column\n",
    "df2['post_body_text'].isna().sum()"
   ]
  },
  {
   "cell_type": "code",
   "execution_count": 19,
   "metadata": {},
   "outputs": [],
   "source": [
    "# keep only post_body_text and EmbeddedContentText\n",
    "df1 = df1[['PostId','post_body_text', 'EmbeddedContentText', 'Platform', 'ChannelID']]\n",
    "df2 = df2[['PostId','post_body_text', 'EmbeddedContentText', 'Platform', 'ChannelID']]\n",
    "\n",
    "df1['EmbeddedContentText'] = df1['EmbeddedContentText'].replace(' ', pd.NA)\n",
    "df1['EmbeddedContentText'] = df1['EmbeddedContentText'].fillna('')\n",
    "\n",
    "df2['EmbeddedContentText'] = df2['EmbeddedContentText'].replace(' ', pd.NA)\n",
    "df2['EmbeddedContentText'] = df2['EmbeddedContentText'].fillna('')\n",
    "\n",
    "# make column named POS_tagging_text\n",
    "df1['POS_tagging_text'] = df1['post_body_text'] + df1['EmbeddedContentText']\n",
    "df2['POS_tagging_text'] = df2['post_body_text'] + df2['EmbeddedContentText']"
   ]
  },
  {
   "cell_type": "code",
   "execution_count": 20,
   "metadata": {},
   "outputs": [],
   "source": [
    "# add one df under another\n",
    "df = pd.concat([df1, df2], ignore_index=True)"
   ]
  },
  {
   "cell_type": "code",
   "execution_count": 21,
   "metadata": {},
   "outputs": [
    {
     "name": "stdout",
     "output_type": "stream",
     "text": [
      "9874\n",
      "13645\n"
     ]
    }
   ],
   "source": [
    "print(len(df1))\n",
    "print(len(df2))"
   ]
  },
  {
   "cell_type": "code",
   "execution_count": 22,
   "metadata": {},
   "outputs": [
    {
     "data": {
      "text/plain": [
       "23519"
      ]
     },
     "execution_count": 22,
     "metadata": {},
     "output_type": "execute_result"
    }
   ],
   "source": [
    "len(df)"
   ]
  },
  {
   "cell_type": "code",
   "execution_count": 23,
   "metadata": {},
   "outputs": [
    {
     "data": {
      "text/html": [
       "<div>\n",
       "<style scoped>\n",
       "    .dataframe tbody tr th:only-of-type {\n",
       "        vertical-align: middle;\n",
       "    }\n",
       "\n",
       "    .dataframe tbody tr th {\n",
       "        vertical-align: top;\n",
       "    }\n",
       "\n",
       "    .dataframe thead th {\n",
       "        text-align: right;\n",
       "    }\n",
       "</style>\n",
       "<table border=\"1\" class=\"dataframe\">\n",
       "  <thead>\n",
       "    <tr style=\"text-align: right;\">\n",
       "      <th></th>\n",
       "      <th>PostId</th>\n",
       "      <th>post_body_text</th>\n",
       "      <th>EmbeddedContentText</th>\n",
       "      <th>Platform</th>\n",
       "      <th>ChannelID</th>\n",
       "      <th>POS_tagging_text</th>\n",
       "    </tr>\n",
       "  </thead>\n",
       "  <tbody>\n",
       "    <tr>\n",
       "      <th>0</th>\n",
       "      <td>80074859</td>\n",
       "      <td>While in Camden today I had the privilege to v...</td>\n",
       "      <td></td>\n",
       "      <td>Instagram</td>\n",
       "      <td>9955344</td>\n",
       "      <td>While in Camden today I had the privilege to v...</td>\n",
       "    </tr>\n",
       "    <tr>\n",
       "      <th>1</th>\n",
       "      <td>80069324</td>\n",
       "      <td>I had a great visit this afternoon with the Wi...</td>\n",
       "      <td></td>\n",
       "      <td>Instagram</td>\n",
       "      <td>9955344</td>\n",
       "      <td>I had a great visit this afternoon with the Wi...</td>\n",
       "    </tr>\n",
       "  </tbody>\n",
       "</table>\n",
       "</div>"
      ],
      "text/plain": [
       "     PostId                                     post_body_text  \\\n",
       "0  80074859  While in Camden today I had the privilege to v...   \n",
       "1  80069324  I had a great visit this afternoon with the Wi...   \n",
       "\n",
       "  EmbeddedContentText   Platform  ChannelID  \\\n",
       "0                      Instagram    9955344   \n",
       "1                      Instagram    9955344   \n",
       "\n",
       "                                    POS_tagging_text  \n",
       "0  While in Camden today I had the privilege to v...  \n",
       "1  I had a great visit this afternoon with the Wi...  "
      ]
     },
     "execution_count": 23,
     "metadata": {},
     "output_type": "execute_result"
    }
   ],
   "source": [
    "df.head(2)"
   ]
  },
  {
   "cell_type": "code",
   "execution_count": 24,
   "metadata": {},
   "outputs": [],
   "source": [
    "# keep only PostId and POS_tagging_text\n",
    "df = df[['PostId', 'POS_tagging_text', 'Platform', 'ChannelID']]"
   ]
  },
  {
   "cell_type": "code",
   "execution_count": 25,
   "metadata": {},
   "outputs": [
    {
     "data": {
      "text/plain": [
       "1095"
      ]
     },
     "execution_count": 25,
     "metadata": {},
     "output_type": "execute_result"
    }
   ],
   "source": [
    "# count NaN values in POS_tagging_text\n",
    "df['POS_tagging_text'].isna().sum()"
   ]
  },
  {
   "cell_type": "code",
   "execution_count": 26,
   "metadata": {},
   "outputs": [
    {
     "data": {
      "text/plain": [
       "23519"
      ]
     },
     "execution_count": 26,
     "metadata": {},
     "output_type": "execute_result"
    }
   ],
   "source": [
    "len(df)"
   ]
  },
  {
   "cell_type": "code",
   "execution_count": 27,
   "metadata": {},
   "outputs": [],
   "source": [
    "# remove NaN values\n",
    "df = df.dropna(subset=['POS_tagging_text'])"
   ]
  },
  {
   "cell_type": "code",
   "execution_count": 28,
   "metadata": {},
   "outputs": [
    {
     "data": {
      "text/plain": [
       "22424"
      ]
     },
     "execution_count": 28,
     "metadata": {},
     "output_type": "execute_result"
    }
   ],
   "source": [
    "len(df)"
   ]
  },
  {
   "cell_type": "code",
   "execution_count": 29,
   "metadata": {},
   "outputs": [
    {
     "data": {
      "text/plain": [
       "0     While in Camden today I had the privilege to v...\n",
       "1     I had a great visit this afternoon with the Wi...\n",
       "2     On November 29, the State Canvassing Board cer...\n",
       "3     The State Canvassing Board certified the 2022 ...\n",
       "4     RT @BaltCoElections: To all Baltimore County E...\n",
       "5     See you bright and early, Owensboro. https://t...\n",
       "6                 See you bright and early, Owensboro. \n",
       "8     Secretary Ashcroft will work alongside the @Hu...\n",
       "9     Don’t be a deer in the headlights when it come...\n",
       "10    ICYMI! If your business is interested in joini...\n",
       "Name: POS_tagging_text, dtype: object"
      ]
     },
     "execution_count": 29,
     "metadata": {},
     "output_type": "execute_result"
    }
   ],
   "source": [
    "# print the first 10 rows of POS_tagging_text\n",
    "df['POS_tagging_text'].head(10)"
   ]
  },
  {
   "cell_type": "markdown",
   "metadata": {},
   "source": [
    "Clean text for POS tagging"
   ]
  },
  {
   "cell_type": "code",
   "execution_count": 30,
   "metadata": {},
   "outputs": [
    {
     "name": "stdout",
     "output_type": "stream",
     "text": [
      "0     While in Camden today I had the privilege to v...\n",
      "1     I had a great visit this afternoon with the Wi...\n",
      "2     On November 29, the State Canvassing Board cer...\n",
      "3     The State Canvassing Board certified the 2022 ...\n",
      "4     : To all Baltimore County Election Judges who ...\n",
      "5                  See you bright and early, Owensboro.\n",
      "6                  See you bright and early, Owensboro.\n",
      "8     Secretary Ashcroft will work alongside the , h...\n",
      "9     Don’t be a deer in the headlights when it come...\n",
      "10    ICYMI! If your business is interested in joini...\n",
      "Name: POS_tagging_text, dtype: object\n"
     ]
    }
   ],
   "source": [
    "import re\n",
    "def clean_text(text):\n",
    "    # If text is not a string (e.g., NaN), return an empty string or handle as needed.\n",
    "    if not isinstance(text, str):\n",
    "        return \"\"\n",
    "    # Remove 'RT' as a standalone word.\n",
    "    text = re.sub(r'\\bRT\\b', '', text)\n",
    "    # Remove URLs.\n",
    "    text = re.sub(r'http\\S+|www\\.\\S+', '', text)\n",
    "    # Remove @mentions.\n",
    "    text = re.sub(r'@\\w+', '', text)\n",
    "    # Remove hashtags.\n",
    "    text = re.sub(r'#\\w+', '', text)\n",
    "    # Remove extra whitespace.\n",
    "    text = re.sub(r'\\s+', ' ', text).strip()\n",
    "    return text\n",
    "\n",
    "# Apply the cleaning function to your text column.\n",
    "df['POS_tagging_text'] = df['POS_tagging_text'].apply(clean_text)\n",
    "\n",
    "# Check the cleaned output.\n",
    "print(df['POS_tagging_text'].head(10))"
   ]
  },
  {
   "cell_type": "code",
   "execution_count": 31,
   "metadata": {},
   "outputs": [
    {
     "data": {
      "text/plain": [
       "0"
      ]
     },
     "execution_count": 31,
     "metadata": {},
     "output_type": "execute_result"
    }
   ],
   "source": [
    "# count NaN values in POS_tagging_text\n",
    "df['POS_tagging_text'].isna().sum()"
   ]
  },
  {
   "cell_type": "code",
   "execution_count": 32,
   "metadata": {},
   "outputs": [
    {
     "name": "stdout",
     "output_type": "stream",
     "text": [
      "113\n",
      "0\n"
     ]
    }
   ],
   "source": [
    "# count number of POS_tagging_text that are '' or ' '\n",
    "print(len(df[df['POS_tagging_text'].str.strip() == '']))\n",
    "\n",
    "# drop rows where POS_tagging_text is '' or ' '\n",
    "df = df[df['POS_tagging_text'].str.strip() != '']\n",
    "\n",
    "print(len(df[df['POS_tagging_text'].str.strip() == '']))"
   ]
  },
  {
   "cell_type": "code",
   "execution_count": 33,
   "metadata": {},
   "outputs": [
    {
     "data": {
      "text/html": [
       "<div>\n",
       "<style scoped>\n",
       "    .dataframe tbody tr th:only-of-type {\n",
       "        vertical-align: middle;\n",
       "    }\n",
       "\n",
       "    .dataframe tbody tr th {\n",
       "        vertical-align: top;\n",
       "    }\n",
       "\n",
       "    .dataframe thead th {\n",
       "        text-align: right;\n",
       "    }\n",
       "</style>\n",
       "<table border=\"1\" class=\"dataframe\">\n",
       "  <thead>\n",
       "    <tr style=\"text-align: right;\">\n",
       "      <th></th>\n",
       "      <th>PostId</th>\n",
       "      <th>POS_tagging_text</th>\n",
       "      <th>Platform</th>\n",
       "      <th>ChannelID</th>\n",
       "    </tr>\n",
       "  </thead>\n",
       "  <tbody>\n",
       "    <tr>\n",
       "      <th>0</th>\n",
       "      <td>80074859</td>\n",
       "      <td>While in Camden today I had the privilege to v...</td>\n",
       "      <td>Instagram</td>\n",
       "      <td>9955344</td>\n",
       "    </tr>\n",
       "    <tr>\n",
       "      <th>1</th>\n",
       "      <td>80069324</td>\n",
       "      <td>I had a great visit this afternoon with the Wi...</td>\n",
       "      <td>Instagram</td>\n",
       "      <td>9955344</td>\n",
       "    </tr>\n",
       "    <tr>\n",
       "      <th>2</th>\n",
       "      <td>80072838</td>\n",
       "      <td>On November 29, the State Canvassing Board cer...</td>\n",
       "      <td>Facebook</td>\n",
       "      <td>8894188</td>\n",
       "    </tr>\n",
       "    <tr>\n",
       "      <th>3</th>\n",
       "      <td>80076411</td>\n",
       "      <td>The State Canvassing Board certified the 2022 ...</td>\n",
       "      <td>Twitter</td>\n",
       "      <td>8891709</td>\n",
       "    </tr>\n",
       "    <tr>\n",
       "      <th>4</th>\n",
       "      <td>80107630</td>\n",
       "      <td>: To all Baltimore County Election Judges who ...</td>\n",
       "      <td>Twitter</td>\n",
       "      <td>8891704</td>\n",
       "    </tr>\n",
       "  </tbody>\n",
       "</table>\n",
       "</div>"
      ],
      "text/plain": [
       "     PostId                                   POS_tagging_text   Platform  \\\n",
       "0  80074859  While in Camden today I had the privilege to v...  Instagram   \n",
       "1  80069324  I had a great visit this afternoon with the Wi...  Instagram   \n",
       "2  80072838  On November 29, the State Canvassing Board cer...   Facebook   \n",
       "3  80076411  The State Canvassing Board certified the 2022 ...    Twitter   \n",
       "4  80107630  : To all Baltimore County Election Judges who ...    Twitter   \n",
       "\n",
       "   ChannelID  \n",
       "0    9955344  \n",
       "1    9955344  \n",
       "2    8894188  \n",
       "3    8891709  \n",
       "4    8891704  "
      ]
     },
     "execution_count": 33,
     "metadata": {},
     "output_type": "execute_result"
    }
   ],
   "source": [
    "df.head()"
   ]
  },
  {
   "cell_type": "code",
   "execution_count": 34,
   "metadata": {},
   "outputs": [],
   "source": [
    "# save\n",
    "df.to_csv('../clean/clean_posts_for_POS.csv', index=False)"
   ]
  }
 ],
 "metadata": {
  "kernelspec": {
   "display_name": "mdi_tone",
   "language": "python",
   "name": "python3"
  },
  "language_info": {
   "codemirror_mode": {
    "name": "ipython",
    "version": 3
   },
   "file_extension": ".py",
   "mimetype": "text/x-python",
   "name": "python",
   "nbconvert_exporter": "python",
   "pygments_lexer": "ipython3",
   "version": "3.11.11"
  }
 },
 "nbformat": 4,
 "nbformat_minor": 2
}
