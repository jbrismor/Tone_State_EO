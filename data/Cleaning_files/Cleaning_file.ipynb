{
 "cells": [
  {
   "cell_type": "markdown",
   "metadata": {},
   "source": [
    "# Data cleaning"
   ]
  },
  {
   "cell_type": "markdown",
   "metadata": {},
   "source": [
    "## Joining datasets for POS tagging"
   ]
  },
  {
   "cell_type": "code",
   "execution_count": 1,
   "metadata": {},
   "outputs": [
    {
     "name": "stderr",
     "output_type": "stream",
     "text": [
      "/var/folders/6_/vdnq4k0n7ql9c1t31dngczjh0000gn/T/ipykernel_8760/3469534477.py:5: DtypeWarning: Columns (14,19) have mixed types. Specify dtype option on import or set low_memory=False.\n",
      "  df1 = pd.read_csv('../raw/2022_1.1.csv')\n"
     ]
    }
   ],
   "source": [
    "import numpy as np\n",
    "import pandas as pd\n",
    "\n",
    "# read datasets\n",
    "df1 = pd.read_csv('../raw/2022_1.1.csv')\n",
    "df2 = pd.read_csv('../raw/2022_1.2.csv')\n",
    "df3 = pd.read_csv('../raw/2022_1.3.csv')\n",
    "# df4 = pd.read_csv('../raw/2022_1.4.csv')\n",
    "# df5 = pd.read_csv('../raw/2022_1.5.csv')\n",
    "# df6 = pd.read_csv('../raw/2022_1.6.csv')\n",
    "# df7 = pd.read_csv('../raw/2022_1.7.csv')\n",
    "df8 = pd.read_csv('../raw/LEO Aug 28 - Nov 15 2024 LABELS.csv')\n",
    "df9 = pd.read_csv('../raw/State EO ALL data NO LABELS Aug 28 _ Dec 13 2024.csv')\n",
    "df10 = pd.read_csv('../raw/State EO Coded Jan 22 2025 export .csv')"
   ]
  },
  {
   "cell_type": "code",
   "execution_count": 2,
   "metadata": {},
   "outputs": [],
   "source": [
    "# rename from df9 post_body_text to Description\n",
    "df9 = df9.rename(columns={'post_body_text': 'Description'})"
   ]
  },
  {
   "cell_type": "code",
   "execution_count": 3,
   "metadata": {},
   "outputs": [],
   "source": [
    "# For df1, df2, df3: Join Description and Caption (and AudioTranscript for df2 and df3)\n",
    "df1['Combined_text'] = df1['Description'].fillna('') + ' ' + df1['Caption'].fillna('')\n",
    "df2['Combined_text'] = df2['Description'].fillna('') + ' ' + df2['Caption'].fillna('') + ' ' + df2['AudioTranscript'].fillna('')\n",
    "df3['Combined_text'] = df3['Description'].fillna('') + ' ' + df3['Caption'].fillna('') + ' ' + df3['AudioTranscript'].fillna('')\n",
    "\n",
    "# For df9: Join Description, GoogleAudioText, and EmbeddedContentText\n",
    "df9['Combined_text'] = df9['Description'].fillna('') + ' ' + df9['GoogleAudioText'].fillna('') + ' ' + df9['EmbeddedContentText'].fillna('')\n",
    "\n",
    "# For df8 and df10: Join Description, Caption, AudioTranscript, and EmbeddedContentText\n",
    "df8['Combined_text'] = df8['Description'].fillna('') + ' ' + df8['Caption'].fillna('') + ' ' + df8['AudioTranscript'].fillna('') + ' ' + df8['EmbeddedContentText'].fillna('')\n",
    "df10['Combined_text'] = df10['Description'].fillna('') + ' ' + df10['Caption'].fillna('') + ' ' + df10['AudioTranscript'].fillna('') + ' ' + df10['EmbeddedContentText'].fillna('')"
   ]
  },
  {
   "cell_type": "code",
   "execution_count": 4,
   "metadata": {},
   "outputs": [],
   "source": [
    "# For each, keep only: PostId, EmbeddedContentText\n",
    "df1 = df1[['PostId', 'Combined_text']]\n",
    "df2 = df2[['PostId', 'Combined_text']]\n",
    "df3 = df3[['PostId', 'Combined_text']]\n",
    "df8 = df8[['PostId', 'Combined_text']]\n",
    "df9 = df9[['PostId', 'Combined_text']]\n",
    "df10 = df10[['PostId', 'Combined_text']]\n",
    "\n",
    "# Concatenate all DataFrames vertically\n",
    "combined_df = pd.concat([df1, df2, df3, df8, df9, df10], axis=0)\n",
    "\n",
    "# Save the combined DataFrame to a CSV file\n",
    "combined_df.to_csv('../clean/pos_tagging_data.csv', index=False)"
   ]
  },
  {
   "cell_type": "code",
   "execution_count": 5,
   "metadata": {},
   "outputs": [
    {
     "data": {
      "text/html": [
       "<div>\n",
       "<style scoped>\n",
       "    .dataframe tbody tr th:only-of-type {\n",
       "        vertical-align: middle;\n",
       "    }\n",
       "\n",
       "    .dataframe tbody tr th {\n",
       "        vertical-align: top;\n",
       "    }\n",
       "\n",
       "    .dataframe thead th {\n",
       "        text-align: right;\n",
       "    }\n",
       "</style>\n",
       "<table border=\"1\" class=\"dataframe\">\n",
       "  <thead>\n",
       "    <tr style=\"text-align: right;\">\n",
       "      <th></th>\n",
       "      <th>PostId</th>\n",
       "      <th>Combined_text</th>\n",
       "    </tr>\n",
       "  </thead>\n",
       "  <tbody>\n",
       "    <tr>\n",
       "      <th>0</th>\n",
       "      <td>74414837</td>\n",
       "      <td>We hope everyone has a safe and Happy Hallowee...</td>\n",
       "    </tr>\n",
       "    <tr>\n",
       "      <th>1</th>\n",
       "      <td>74420801</td>\n",
       "      <td>Oconee County has the best Elections staff and...</td>\n",
       "    </tr>\n",
       "    <tr>\n",
       "      <th>2</th>\n",
       "      <td>74420802</td>\n",
       "      <td>🇺🇸Keep on voting Young County🇺🇸 Let’s try and ...</td>\n",
       "    </tr>\n",
       "    <tr>\n",
       "      <th>3</th>\n",
       "      <td>74420805</td>\n",
       "      <td>Early Voting turnout for Monday, October 31, 2...</td>\n",
       "    </tr>\n",
       "    <tr>\n",
       "      <th>4</th>\n",
       "      <td>74411274</td>\n",
       "      <td>Happy Halloween from the Clerk-Recorders Office!</td>\n",
       "    </tr>\n",
       "  </tbody>\n",
       "</table>\n",
       "</div>"
      ],
      "text/plain": [
       "     PostId                                      Combined_text\n",
       "0  74414837  We hope everyone has a safe and Happy Hallowee...\n",
       "1  74420801  Oconee County has the best Elections staff and...\n",
       "2  74420802  🇺🇸Keep on voting Young County🇺🇸 Let’s try and ...\n",
       "3  74420805  Early Voting turnout for Monday, October 31, 2...\n",
       "4  74411274  Happy Halloween from the Clerk-Recorders Office! "
      ]
     },
     "execution_count": 5,
     "metadata": {},
     "output_type": "execute_result"
    }
   ],
   "source": [
    "# head\n",
    "combined_df.head()"
   ]
  }
 ],
 "metadata": {
  "kernelspec": {
   "display_name": "mdi_tone",
   "language": "python",
   "name": "python3"
  },
  "language_info": {
   "codemirror_mode": {
    "name": "ipython",
    "version": 3
   },
   "file_extension": ".py",
   "mimetype": "text/x-python",
   "name": "python",
   "nbconvert_exporter": "python",
   "pygments_lexer": "ipython3",
   "version": "3.11.11"
  }
 },
 "nbformat": 4,
 "nbformat_minor": 2
}
