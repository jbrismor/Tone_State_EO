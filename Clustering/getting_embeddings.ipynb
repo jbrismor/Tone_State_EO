{
 "cells": [
  {
   "cell_type": "markdown",
   "metadata": {},
   "source": [
    "# Embeddings\n",
    "\n",
    "This notebook is used to get the embeddings for the social media posts of the State Election Officials."
   ]
  },
  {
   "cell_type": "code",
   "execution_count": 1,
   "metadata": {},
   "outputs": [],
   "source": [
    "import ollama\n",
    "import pandas as pd"
   ]
  },
  {
   "cell_type": "code",
   "execution_count": 2,
   "metadata": {},
   "outputs": [],
   "source": [
    "df = pd.read_csv('../data/clean/clean_posts_for_POS.csv')"
   ]
  },
  {
   "cell_type": "code",
   "execution_count": 3,
   "metadata": {},
   "outputs": [
    {
     "data": {
      "text/html": [
       "<div>\n",
       "<style scoped>\n",
       "    .dataframe tbody tr th:only-of-type {\n",
       "        vertical-align: middle;\n",
       "    }\n",
       "\n",
       "    .dataframe tbody tr th {\n",
       "        vertical-align: top;\n",
       "    }\n",
       "\n",
       "    .dataframe thead th {\n",
       "        text-align: right;\n",
       "    }\n",
       "</style>\n",
       "<table border=\"1\" class=\"dataframe\">\n",
       "  <thead>\n",
       "    <tr style=\"text-align: right;\">\n",
       "      <th></th>\n",
       "      <th>PostId</th>\n",
       "      <th>text</th>\n",
       "      <th>Platform</th>\n",
       "      <th>ChannelID</th>\n",
       "    </tr>\n",
       "  </thead>\n",
       "  <tbody>\n",
       "    <tr>\n",
       "      <th>0</th>\n",
       "      <td>80074859</td>\n",
       "      <td>While in Camden today I had the privilege to v...</td>\n",
       "      <td>Instagram</td>\n",
       "      <td>9955344</td>\n",
       "    </tr>\n",
       "    <tr>\n",
       "      <th>1</th>\n",
       "      <td>80069324</td>\n",
       "      <td>I had a great visit this afternoon with the Wi...</td>\n",
       "      <td>Instagram</td>\n",
       "      <td>9955344</td>\n",
       "    </tr>\n",
       "  </tbody>\n",
       "</table>\n",
       "</div>"
      ],
      "text/plain": [
       "     PostId                                               text   Platform  \\\n",
       "0  80074859  While in Camden today I had the privilege to v...  Instagram   \n",
       "1  80069324  I had a great visit this afternoon with the Wi...  Instagram   \n",
       "\n",
       "   ChannelID  \n",
       "0    9955344  \n",
       "1    9955344  "
      ]
     },
     "execution_count": 3,
     "metadata": {},
     "output_type": "execute_result"
    }
   ],
   "source": [
    "# rename POS_tagging_text to text\n",
    "df.rename(columns={'POS_tagging_text': 'text'}, inplace=True)\n",
    "\n",
    "df.head(2)"
   ]
  },
  {
   "cell_type": "code",
   "execution_count": 5,
   "metadata": {},
   "outputs": [],
   "source": [
    "def get_embeddings(text, model='mxbai-embed-large'):\n",
    "    embeddings_dict = ollama.embeddings(model=model, prompt=text)\n",
    "    return embeddings_dict[\"embedding\"]\n",
    "\n",
    "df['embeddings'] = df['text'].apply(get_embeddings)"
   ]
  },
  {
   "cell_type": "code",
   "execution_count": 6,
   "metadata": {},
   "outputs": [
    {
     "data": {
      "text/html": [
       "<div>\n",
       "<style scoped>\n",
       "    .dataframe tbody tr th:only-of-type {\n",
       "        vertical-align: middle;\n",
       "    }\n",
       "\n",
       "    .dataframe tbody tr th {\n",
       "        vertical-align: top;\n",
       "    }\n",
       "\n",
       "    .dataframe thead th {\n",
       "        text-align: right;\n",
       "    }\n",
       "</style>\n",
       "<table border=\"1\" class=\"dataframe\">\n",
       "  <thead>\n",
       "    <tr style=\"text-align: right;\">\n",
       "      <th></th>\n",
       "      <th>PostId</th>\n",
       "      <th>text</th>\n",
       "      <th>Platform</th>\n",
       "      <th>ChannelID</th>\n",
       "      <th>embeddings</th>\n",
       "    </tr>\n",
       "  </thead>\n",
       "  <tbody>\n",
       "    <tr>\n",
       "      <th>0</th>\n",
       "      <td>80074859</td>\n",
       "      <td>While in Camden today I had the privilege to v...</td>\n",
       "      <td>Instagram</td>\n",
       "      <td>9955344</td>\n",
       "      <td>[0.17838525772094727, 0.2974681854248047, 0.38...</td>\n",
       "    </tr>\n",
       "    <tr>\n",
       "      <th>1</th>\n",
       "      <td>80069324</td>\n",
       "      <td>I had a great visit this afternoon with the Wi...</td>\n",
       "      <td>Instagram</td>\n",
       "      <td>9955344</td>\n",
       "      <td>[0.03257334604859352, -0.10667754709720612, -0...</td>\n",
       "    </tr>\n",
       "    <tr>\n",
       "      <th>2</th>\n",
       "      <td>80072838</td>\n",
       "      <td>On November 29, the State Canvassing Board cer...</td>\n",
       "      <td>Facebook</td>\n",
       "      <td>8894188</td>\n",
       "      <td>[-0.4845951199531555, 0.4088035225868225, 0.41...</td>\n",
       "    </tr>\n",
       "    <tr>\n",
       "      <th>3</th>\n",
       "      <td>80076411</td>\n",
       "      <td>The State Canvassing Board certified the 2022 ...</td>\n",
       "      <td>Twitter</td>\n",
       "      <td>8891709</td>\n",
       "      <td>[-0.5558313727378845, 0.41650187969207764, 0.4...</td>\n",
       "    </tr>\n",
       "    <tr>\n",
       "      <th>4</th>\n",
       "      <td>80107630</td>\n",
       "      <td>: To all Baltimore County Election Judges who ...</td>\n",
       "      <td>Twitter</td>\n",
       "      <td>8891704</td>\n",
       "      <td>[0.26043787598609924, -0.23166483640670776, 0....</td>\n",
       "    </tr>\n",
       "  </tbody>\n",
       "</table>\n",
       "</div>"
      ],
      "text/plain": [
       "     PostId                                               text   Platform  \\\n",
       "0  80074859  While in Camden today I had the privilege to v...  Instagram   \n",
       "1  80069324  I had a great visit this afternoon with the Wi...  Instagram   \n",
       "2  80072838  On November 29, the State Canvassing Board cer...   Facebook   \n",
       "3  80076411  The State Canvassing Board certified the 2022 ...    Twitter   \n",
       "4  80107630  : To all Baltimore County Election Judges who ...    Twitter   \n",
       "\n",
       "   ChannelID                                         embeddings  \n",
       "0    9955344  [0.17838525772094727, 0.2974681854248047, 0.38...  \n",
       "1    9955344  [0.03257334604859352, -0.10667754709720612, -0...  \n",
       "2    8894188  [-0.4845951199531555, 0.4088035225868225, 0.41...  \n",
       "3    8891709  [-0.5558313727378845, 0.41650187969207764, 0.4...  \n",
       "4    8891704  [0.26043787598609924, -0.23166483640670776, 0....  "
      ]
     },
     "execution_count": 6,
     "metadata": {},
     "output_type": "execute_result"
    }
   ],
   "source": [
    "df.head()"
   ]
  },
  {
   "cell_type": "code",
   "execution_count": 7,
   "metadata": {},
   "outputs": [],
   "source": [
    "# save as csv\n",
    "df.to_csv('../data/clean/post_with_embeddings.csv', index=False)"
   ]
  },
  {
   "cell_type": "code",
   "execution_count": 8,
   "metadata": {},
   "outputs": [
    {
     "data": {
      "text/html": [
       "<div>\n",
       "<style scoped>\n",
       "    .dataframe tbody tr th:only-of-type {\n",
       "        vertical-align: middle;\n",
       "    }\n",
       "\n",
       "    .dataframe tbody tr th {\n",
       "        vertical-align: top;\n",
       "    }\n",
       "\n",
       "    .dataframe thead th {\n",
       "        text-align: right;\n",
       "    }\n",
       "</style>\n",
       "<table border=\"1\" class=\"dataframe\">\n",
       "  <thead>\n",
       "    <tr style=\"text-align: right;\">\n",
       "      <th></th>\n",
       "      <th>State</th>\n",
       "      <th>tenure_2024</th>\n",
       "      <th>Platform</th>\n",
       "      <th>ChannelId</th>\n",
       "      <th>prez_winner_2024</th>\n",
       "      <th>ceo_party</th>\n",
       "      <th>battleground_2020</th>\n",
       "      <th>battleground_2024</th>\n",
       "    </tr>\n",
       "  </thead>\n",
       "  <tbody>\n",
       "    <tr>\n",
       "      <th>0</th>\n",
       "      <td>Alabama</td>\n",
       "      <td>1</td>\n",
       "      <td>Facebook</td>\n",
       "      <td>8894190</td>\n",
       "      <td>R</td>\n",
       "      <td>R</td>\n",
       "      <td>0</td>\n",
       "      <td>0</td>\n",
       "    </tr>\n",
       "    <tr>\n",
       "      <th>1</th>\n",
       "      <td>Alabama</td>\n",
       "      <td>1</td>\n",
       "      <td>FacebookDirect</td>\n",
       "      <td>26303262</td>\n",
       "      <td>R</td>\n",
       "      <td>R</td>\n",
       "      <td>0</td>\n",
       "      <td>0</td>\n",
       "    </tr>\n",
       "    <tr>\n",
       "      <th>2</th>\n",
       "      <td>Alabama</td>\n",
       "      <td>1</td>\n",
       "      <td>Twitter</td>\n",
       "      <td>8889063</td>\n",
       "      <td>R</td>\n",
       "      <td>R</td>\n",
       "      <td>0</td>\n",
       "      <td>0</td>\n",
       "    </tr>\n",
       "    <tr>\n",
       "      <th>3</th>\n",
       "      <td>Alaska</td>\n",
       "      <td>1</td>\n",
       "      <td>Facebook</td>\n",
       "      <td>8894198</td>\n",
       "      <td>R</td>\n",
       "      <td>R</td>\n",
       "      <td>0</td>\n",
       "      <td>0</td>\n",
       "    </tr>\n",
       "    <tr>\n",
       "      <th>4</th>\n",
       "      <td>Alaska</td>\n",
       "      <td>1</td>\n",
       "      <td>FacebookDirect</td>\n",
       "      <td>26302357</td>\n",
       "      <td>R</td>\n",
       "      <td>R</td>\n",
       "      <td>0</td>\n",
       "      <td>0</td>\n",
       "    </tr>\n",
       "  </tbody>\n",
       "</table>\n",
       "</div>"
      ],
      "text/plain": [
       "     State  tenure_2024        Platform  ChannelId prez_winner_2024 ceo_party  \\\n",
       "0  Alabama            1        Facebook    8894190                R         R   \n",
       "1  Alabama            1  FacebookDirect   26303262                R         R   \n",
       "2  Alabama            1         Twitter    8889063                R         R   \n",
       "3   Alaska            1        Facebook    8894198                R         R   \n",
       "4   Alaska            1  FacebookDirect   26302357                R         R   \n",
       "\n",
       "   battleground_2020  battleground_2024  \n",
       "0                  0                  0  \n",
       "1                  0                  0  \n",
       "2                  0                  0  \n",
       "3                  0                  0  \n",
       "4                  0                  0  "
      ]
     },
     "execution_count": 8,
     "metadata": {},
     "output_type": "execute_result"
    }
   ],
   "source": [
    "df_info = pd.read_csv('../data/clean/merged_stateplatform.csv')\n",
    "df_info.head()"
   ]
  },
  {
   "cell_type": "code",
   "execution_count": 11,
   "metadata": {},
   "outputs": [
    {
     "name": "stdout",
     "output_type": "stream",
     "text": [
      "22311\n"
     ]
    }
   ],
   "source": [
    "print(len(df))"
   ]
  },
  {
   "cell_type": "code",
   "execution_count": 14,
   "metadata": {},
   "outputs": [
    {
     "name": "stdout",
     "output_type": "stream",
     "text": [
      "22311\n"
     ]
    }
   ],
   "source": [
    "# First ensure column names match between dataframes\n",
    "df_info = df_info.rename(columns={'ChannelId': 'ChannelID'})\n",
    "\n",
    "# Perform the left merge\n",
    "merged_df = df.merge(\n",
    "    df_info,\n",
    "    on=['Platform', 'ChannelID'],\n",
    "    how='left'\n",
    ")\n",
    "\n",
    "print(len(merged_df))"
   ]
  },
  {
   "cell_type": "code",
   "execution_count": 15,
   "metadata": {},
   "outputs": [
    {
     "data": {
      "text/html": [
       "<div>\n",
       "<style scoped>\n",
       "    .dataframe tbody tr th:only-of-type {\n",
       "        vertical-align: middle;\n",
       "    }\n",
       "\n",
       "    .dataframe tbody tr th {\n",
       "        vertical-align: top;\n",
       "    }\n",
       "\n",
       "    .dataframe thead th {\n",
       "        text-align: right;\n",
       "    }\n",
       "</style>\n",
       "<table border=\"1\" class=\"dataframe\">\n",
       "  <thead>\n",
       "    <tr style=\"text-align: right;\">\n",
       "      <th></th>\n",
       "      <th>PostId</th>\n",
       "      <th>text</th>\n",
       "      <th>Platform</th>\n",
       "      <th>ChannelID</th>\n",
       "      <th>embeddings</th>\n",
       "      <th>State</th>\n",
       "      <th>tenure_2024</th>\n",
       "      <th>prez_winner_2024</th>\n",
       "      <th>ceo_party</th>\n",
       "      <th>battleground_2020</th>\n",
       "      <th>battleground_2024</th>\n",
       "    </tr>\n",
       "  </thead>\n",
       "  <tbody>\n",
       "    <tr>\n",
       "      <th>0</th>\n",
       "      <td>80074859</td>\n",
       "      <td>While in Camden today I had the privilege to v...</td>\n",
       "      <td>Instagram</td>\n",
       "      <td>9955344</td>\n",
       "      <td>[0.17838525772094727, 0.2974681854248047, 0.38...</td>\n",
       "      <td>NaN</td>\n",
       "      <td>NaN</td>\n",
       "      <td>NaN</td>\n",
       "      <td>NaN</td>\n",
       "      <td>NaN</td>\n",
       "      <td>NaN</td>\n",
       "    </tr>\n",
       "    <tr>\n",
       "      <th>1</th>\n",
       "      <td>80069324</td>\n",
       "      <td>I had a great visit this afternoon with the Wi...</td>\n",
       "      <td>Instagram</td>\n",
       "      <td>9955344</td>\n",
       "      <td>[0.03257334604859352, -0.10667754709720612, -0...</td>\n",
       "      <td>NaN</td>\n",
       "      <td>NaN</td>\n",
       "      <td>NaN</td>\n",
       "      <td>NaN</td>\n",
       "      <td>NaN</td>\n",
       "      <td>NaN</td>\n",
       "    </tr>\n",
       "    <tr>\n",
       "      <th>2</th>\n",
       "      <td>80072838</td>\n",
       "      <td>On November 29, the State Canvassing Board cer...</td>\n",
       "      <td>Facebook</td>\n",
       "      <td>8894188</td>\n",
       "      <td>[-0.4845951199531555, 0.4088035225868225, 0.41...</td>\n",
       "      <td>Minnesota</td>\n",
       "      <td>9.0</td>\n",
       "      <td>D</td>\n",
       "      <td>D</td>\n",
       "      <td>1.0</td>\n",
       "      <td>0.0</td>\n",
       "    </tr>\n",
       "    <tr>\n",
       "      <th>3</th>\n",
       "      <td>80076411</td>\n",
       "      <td>The State Canvassing Board certified the 2022 ...</td>\n",
       "      <td>Twitter</td>\n",
       "      <td>8891709</td>\n",
       "      <td>[-0.5558313727378845, 0.41650187969207764, 0.4...</td>\n",
       "      <td>Minnesota</td>\n",
       "      <td>9.0</td>\n",
       "      <td>D</td>\n",
       "      <td>D</td>\n",
       "      <td>1.0</td>\n",
       "      <td>0.0</td>\n",
       "    </tr>\n",
       "    <tr>\n",
       "      <th>4</th>\n",
       "      <td>80107630</td>\n",
       "      <td>: To all Baltimore County Election Judges who ...</td>\n",
       "      <td>Twitter</td>\n",
       "      <td>8891704</td>\n",
       "      <td>[0.26043787598609924, -0.23166483640670776, 0....</td>\n",
       "      <td>Maryland</td>\n",
       "      <td>1.0</td>\n",
       "      <td>D</td>\n",
       "      <td>NaN</td>\n",
       "      <td>0.0</td>\n",
       "      <td>0.0</td>\n",
       "    </tr>\n",
       "  </tbody>\n",
       "</table>\n",
       "</div>"
      ],
      "text/plain": [
       "     PostId                                               text   Platform  \\\n",
       "0  80074859  While in Camden today I had the privilege to v...  Instagram   \n",
       "1  80069324  I had a great visit this afternoon with the Wi...  Instagram   \n",
       "2  80072838  On November 29, the State Canvassing Board cer...   Facebook   \n",
       "3  80076411  The State Canvassing Board certified the 2022 ...    Twitter   \n",
       "4  80107630  : To all Baltimore County Election Judges who ...    Twitter   \n",
       "\n",
       "   ChannelID                                         embeddings      State  \\\n",
       "0    9955344  [0.17838525772094727, 0.2974681854248047, 0.38...        NaN   \n",
       "1    9955344  [0.03257334604859352, -0.10667754709720612, -0...        NaN   \n",
       "2    8894188  [-0.4845951199531555, 0.4088035225868225, 0.41...  Minnesota   \n",
       "3    8891709  [-0.5558313727378845, 0.41650187969207764, 0.4...  Minnesota   \n",
       "4    8891704  [0.26043787598609924, -0.23166483640670776, 0....   Maryland   \n",
       "\n",
       "   tenure_2024 prez_winner_2024 ceo_party  battleground_2020  \\\n",
       "0          NaN              NaN       NaN                NaN   \n",
       "1          NaN              NaN       NaN                NaN   \n",
       "2          9.0                D         D                1.0   \n",
       "3          9.0                D         D                1.0   \n",
       "4          1.0                D       NaN                0.0   \n",
       "\n",
       "   battleground_2024  \n",
       "0                NaN  \n",
       "1                NaN  \n",
       "2                0.0  \n",
       "3                0.0  \n",
       "4                0.0  "
      ]
     },
     "execution_count": 15,
     "metadata": {},
     "output_type": "execute_result"
    }
   ],
   "source": [
    "merged_df.head()"
   ]
  },
  {
   "cell_type": "code",
   "execution_count": 16,
   "metadata": {},
   "outputs": [
    {
     "name": "stdout",
     "output_type": "stream",
     "text": [
      "NaNs in State column: 3355\n",
      "Unique ChannelIDs with missing State: 48\n",
      "[ 9955344  8891705  8891734  8897659  9331001  6859170  5250362  9955346\n",
      "  9955359  8891707  8891714  9955356  9955353  8891710  3505415  9955362\n",
      "  8889065  8402625  9330993  9955360  5451003  9955361  8894202  8894178\n",
      "  9955350  8894182  8909405  8891736  9955348  8891735  9955354  8891723\n",
      "  8894191  8891724  9955355  8894194  1364218  9703931  8894197  7397383\n",
      "  9955342  6435628  9955352  9955358  6189337  8894192  8891741 26303180]\n"
     ]
    }
   ],
   "source": [
    "# Count NaN in State column\n",
    "state_nan_count = merged_df['State'].isna().sum()\n",
    "print(f\"NaNs in State column: {state_nan_count}\")\n",
    "\n",
    "# Get unique ChannelIDs with missing State\n",
    "nan_channel_ids = merged_df[merged_df['State'].isna()]['ChannelID'].unique()\n",
    "print(f\"Unique ChannelIDs with missing State: {len(nan_channel_ids)}\")\n",
    "print(nan_channel_ids)"
   ]
  },
  {
   "cell_type": "code",
   "execution_count": 17,
   "metadata": {},
   "outputs": [],
   "source": [
    "# save nan_channel_ids\n",
    "pd.DataFrame(nan_channel_ids, columns=['ChannelID_missing_state']).to_csv('../data/clean/nan_channel_ids.csv', index=False)"
   ]
  }
 ],
 "metadata": {
  "kernelspec": {
   "display_name": "mdi_tone",
   "language": "python",
   "name": "python3"
  },
  "language_info": {
   "codemirror_mode": {
    "name": "ipython",
    "version": 3
   },
   "file_extension": ".py",
   "mimetype": "text/x-python",
   "name": "python",
   "nbconvert_exporter": "python",
   "pygments_lexer": "ipython3",
   "version": "3.11.11"
  }
 },
 "nbformat": 4,
 "nbformat_minor": 2
}
